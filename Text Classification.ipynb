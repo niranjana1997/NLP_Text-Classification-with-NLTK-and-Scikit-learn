{
 "cells": [
  {
   "cell_type": "code",
   "execution_count": 9,
   "id": "ffa63b7d",
   "metadata": {
    "scrolled": true
   },
   "outputs": [
    {
     "name": "stderr",
     "output_type": "stream",
     "text": [
      "WARNING: You are using pip version 22.0.4; however, version 22.1.2 is available.\n",
      "You should consider upgrading via the 'C:\\Users\\Niranjana S.Avilery\\AppData\\Local\\Programs\\Python\\Python310\\python.exe -m pip install --upgrade pip' command.\n"
     ]
    },
    {
     "name": "stdout",
     "output_type": "stream",
     "text": [
      "Collecting nltk\n",
      "  Downloading nltk-3.7-py3-none-any.whl (1.5 MB)\n",
      "     ---------------------------------------- 1.5/1.5 MB 1.4 MB/s eta 0:00:00\n",
      "Collecting click\n",
      "  Downloading click-8.1.3-py3-none-any.whl (96 kB)\n",
      "     ---------------------------------------- 96.6/96.6 KB 1.4 MB/s eta 0:00:00\n",
      "Collecting regex>=2021.8.3\n",
      "  Downloading regex-2022.6.2-cp310-cp310-win_amd64.whl (262 kB)\n",
      "     -------------------------------------- 262.0/262.0 KB 1.6 MB/s eta 0:00:00\n",
      "Collecting tqdm\n",
      "  Downloading tqdm-4.64.0-py2.py3-none-any.whl (78 kB)\n",
      "     ---------------------------------------- 78.4/78.4 KB 1.5 MB/s eta 0:00:00\n",
      "Requirement already satisfied: joblib in c:\\users\\niranjana s.avilery\\appdata\\local\\programs\\python\\python310\\lib\\site-packages (from nltk) (1.1.0)\n",
      "Requirement already satisfied: colorama in c:\\users\\niranjana s.avilery\\appdata\\local\\programs\\python\\python310\\lib\\site-packages (from click->nltk) (0.4.4)\n",
      "Installing collected packages: tqdm, regex, click, nltk\n",
      "Successfully installed click-8.1.3 nltk-3.7 regex-2022.6.2 tqdm-4.64.0\n",
      "To check the version:\n",
      "Python: 3.10.4 (tags/v3.10.4:9d38120, Mar 23 2022, 23:13:41) [MSC v.1929 64 bit (AMD64)]\n",
      "NLTK: 3.7\n",
      "Scikit-learn: 1.1.0\n",
      "Pandas: 1.4.2\n",
      "Numpy: 1.22.3\n"
     ]
    }
   ],
   "source": [
    "!pip install nltk\n",
    "\n",
    "import sys \n",
    "# Imported to handle natural language processing\n",
    "import nltk\n",
    "# Imported for machine learning classifiers\n",
    "import sklearn\n",
    "# Imported to store the data\n",
    "import pandas\n",
    "import numpy\n",
    "\n",
    "print(\"To check the version:\")\n",
    "print(\"Python: {}\".format(sys.version))\n",
    "print(\"NLTK: {}\".format(nltk.__version__))\n",
    "print(\"Scikit-learn: {}\".format(sklearn.__version__))\n",
    "print(\"Pandas: {}\".format(pandas.__version__))\n",
    "print(\"Numpy: {}\".format(numpy.__version__))"
   ]
  },
  {
   "cell_type": "markdown",
   "id": "b577c47d",
   "metadata": {},
   "source": [
    "## 1. Load the Dataset"
   ]
  },
  {
   "cell_type": "code",
   "execution_count": null,
   "id": "7e5f4b38",
   "metadata": {},
   "outputs": [],
   "source": [
    "import pandas as pd\n",
    "import numpy as np\n",
    "\n"
   ]
  }
 ],
 "metadata": {
  "kernelspec": {
   "display_name": "Python 3 (ipykernel)",
   "language": "python",
   "name": "python3"
  },
  "language_info": {
   "codemirror_mode": {
    "name": "ipython",
    "version": 3
   },
   "file_extension": ".py",
   "mimetype": "text/x-python",
   "name": "python",
   "nbconvert_exporter": "python",
   "pygments_lexer": "ipython3",
   "version": "3.10.4"
  }
 },
 "nbformat": 4,
 "nbformat_minor": 5
}
